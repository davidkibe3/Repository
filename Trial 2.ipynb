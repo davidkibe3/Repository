{
 "cells": [
  {
   "cell_type": "code",
   "execution_count": 13,
   "metadata": {},
   "outputs": [],
   "source": [
    "import numpy as np\n",
    "N=100\n",
    "L=1\n",
    "T=1\n",
    "dt=0.1\n",
    "c=2\n",
    "dx=0.01\n",
    "k=(dt*c**2)/(2*dx)\n",
    "x=np.linspace(0,L,N)\n",
    "u=100/L*x\n",
    "U=np.zeros(N)\n",
    "M=500\n",
    "count = 0 #time loop start at t=0\n",
    "while count <M:\n",
    "    count = count + 1\n",
    "    for j in range (1,N-1):\n",
    "        U[j]=k*(u[j+1]-u[j-1])+u[j]\n",
    "    u[0]=0\n",
    "    #u[-1]=0\n",
    "#U"
   ]
  },
  {
   "cell_type": "code",
   "execution_count": 14,
   "metadata": {},
   "outputs": [
    {
     "data": {
      "image/png": "[encoded data removed]",
      "text/plain": [
       "<Figure size 432x288 with 1 Axes>"
      ]
     },
     "metadata": {
      "needs_background": "light"
     },
     "output_type": "display_data"
    }
   ],
   "source": [
    "import matplotlib.pylab as plt\n",
    "plt.plot(x,u)\n",
    "plt.show()\n"
   ]
  },
  {
   "cell_type": "code",
   "execution_count": null,
   "metadata": {},
   "outputs": [],
   "source": []
  },
  {
   "cell_type": "code",
   "execution_count": null,
   "metadata": {},
   "outputs": [],
   "source": []
  },
  {
   "cell_type": "code",
   "execution_count": 33,
   "metadata": {},
   "outputs": [],
   "source": [
    "import numpy as np\n",
    "import scipy.sparse \n",
    "N=10\n",
    "L=1\n",
    "T=1\n",
    "dt=0.1\n",
    "c=2\n",
    "dx=0.1\n",
    "h=(dt*c**2)/(2*dx)\n",
    "x=np.linspace(0,L,N)\n",
    "u=100/L*x"
   ]
  },
  {
   "cell_type": "code",
   "execution_count": 34,
   "metadata": {},
   "outputs": [],
   "source": [
    "diagonals=np.zeros((3,N))#(Recall u0 and uN have been moved to the other side, so N-2)\n",
    "diagonals[0]=-h\n",
    "diagonals[1]=1+2*h\n",
    "diagonals[2]=-h\n",
    "A=scipy.sparse.spdiags(diagonals,[-1,0,1],N-2,N-2)\n",
    "A=A.toarray()\n",
    "#A"
   ]
  },
  {
   "cell_type": "code",
   "execution_count": 39,
   "metadata": {},
   "outputs": [],
   "source": [
    "b=np.zeros(N) #Initializing vector b\n",
    "M=5\n",
    "count = 0 #time loop start at t=0\n",
    "while count <M:\n",
    "    count = count + 1\n",
    "    for j in range(1,N-1): #NB: The range starts from 1 to N-1 instead of starting from 0 to N. So this must be taken care of later\n",
    "        b[j]=u[j]+h*(u[j+1]+-2*u[j]+u[j-1]) # Your b\n",
    "        u[0]=0                                  # Boundary condition\n",
    "        u[-1]=0                                 # Boundary condition\n",
    "\n",
    "#Taking care of the range\n",
    "    b2=np.zeros(N-2) #Initializing vector b2 for u0\n",
    "    b3=np.zeros(N-2) #Initializing vector b2 for uN\n",
    "    b2[0]=-h*u[0]\n",
    "    b3[-1]=-h*u[-1]\n",
    "    #combining the KNOWN SOLUTION\n",
    "    B=b[1:-1] -(b2+b3)\n",
    "    \n",
    "    #To solve u=inv(A)*b\n",
    "    from numpy.linalg import inv\n",
    "    S=np.dot(inv(A),B)# Solving by inverse method.\n",
    "    u[1:-1]=S # NB: S is N-2 dimensions while u is N dimensions so S=u[1:-1]"
   ]
  },
  {
   "cell_type": "markdown",
   "metadata": {},
   "source": [
    "#Recall u0 and uN had been moved to the other side, they now become part of the KNOWN SOLUTION\n",
    "b2=np.zeros(N-2) #Initializing vector b2 for u0\n",
    "b3=np.zeros(N-2) #Initializing vector b2 for uN\n",
    "b2[0]=-h*u[0]\n",
    "b3[-1]=-h*u[-1]\n",
    "#combining the KNOWN SOLUTION\n",
    "B=b[1:-1] -(b2+b3)\n",
    "B"
   ]
  },
  {
   "cell_type": "markdown",
   "metadata": {},
   "source": [
    "#To solve u=inv(A)*b\n",
    "from numpy.linalg import inv\n",
    "S=np.dot(inv(A),B)# Solving by inverse method.\n",
    "u[1:-1]=S # NB: S is N-2 dimensions while u is N dimensions so S=u[1:-1]"
   ]
  },
  {
   "cell_type": "code",
   "execution_count": 40,
   "metadata": {},
   "outputs": [
    {
     "data": {
      "text/plain": [
       "[]"
      ]
     },
     "execution_count": 40,
     "metadata": {},
     "output_type": "execute_result"
    },
    {
     "data": {
      "image/png": "[encoded data removed]",
      "text/plain": [
       "<Figure size 432x288 with 1 Axes>"
      ]
     },
     "metadata": {
      "needs_background": "light"
     },
     "output_type": "display_data"
    }
   ],
   "source": [
    "#To plot\n",
    "import matplotlib.pylab as plt\n",
    "plt.plot(x,u)\n",
    "plt.plot()"
   ]
  },
  {
   "cell_type": "code",
   "execution_count": null,
   "metadata": {},
   "outputs": [],
   "source": []
  },
  {
   "cell_type": "code",
   "execution_count": null,
   "metadata": {},
   "outputs": [],
   "source": []
  },
  {
   "cell_type": "code",
   "execution_count": 49,
   "metadata": {},
   "outputs": [],
   "source": [
    "import numpy as np\n",
    "import scipy.sparse \n",
    "from numpy.linalg import inv\n",
    "dt=0.1\n",
    "N=100\n",
    "c=2\n",
    "L=1\n",
    "dy=0.01\n",
    "L1=(dt*c**2)/(2*dy)\n",
    "x=np.linspace(0,1,N)\n",
    "u=100/L*x\n",
    "b=np.zeros(N)\n",
    "j=0\n",
    "while j<=N-3:\n",
    "    j=j+1\n",
    "    b[j]=u[j]+L1*(u[j+1]+-2*u[j]+u[j-1])\n",
    "    u[0]=0                                  # Boundary condition\n",
    "#u[-1]=0"
   ]
  },
  {
   "cell_type": "code",
   "execution_count": 50,
   "metadata": {},
   "outputs": [],
   "source": [
    "diagonals=np.zeros((3,N))#(Recall u0 and uN have been moved to the other side, so N-2)\n",
    "diagonals[0]=-L1\n",
    "diagonals[1]=1+2*L1\n",
    "diagonals[2]=-L1\n",
    "A=scipy.sparse.spdiags(diagonals,[0,1,2],N,N)\n",
    "A=A.toarray()\n",
    "#A"
   ]
  },
  {
   "cell_type": "code",
   "execution_count": 51,
   "metadata": {},
   "outputs": [],
   "source": [
    "b0=np.zeros(N)\n",
    "b0[0]=-L1*u[0]\n",
    "bn=np.zeros(N)\n",
    "bn[-1]=-L1*u[-1]\n",
    "b2=b0+bn\n",
    "B=b+b2\n",
    "\n",
    "U=np.dot(inv(A),B)"
   ]
  },
  {
   "cell_type": "code",
   "execution_count": 52,
   "metadata": {},
   "outputs": [
    {
     "data": {
      "text/plain": [
       "[]"
      ]
     },
     "execution_count": 52,
     "metadata": {},
     "output_type": "execute_result"
    },
    {
     "data": {
      "image/png": "[encoded data removed]",
      "text/plain": [
       "<Figure size 432x288 with 1 Axes>"
      ]
     },
     "metadata": {
      "needs_background": "light"
     },
     "output_type": "display_data"
    }
   ],
   "source": [
    "import matplotlib.pylab as plt\n",
    "plt.plot(x,u)\n",
    "plt.plot()"
   ]
  },
  {
   "cell_type": "code",
   "execution_count": null,
   "metadata": {},
   "outputs": [],
   "source": []
  },
  {
   "cell_type": "code",
   "execution_count": null,
   "metadata": {},
   "outputs": [],
   "source": []
  }
 ],
 "metadata": {
  "kernelspec": {
   "display_name": "Python 3",
   "language": "python",
   "name": "python3"
  },
  "language_info": {
   "codemirror_mode": {
    "name": "ipython",
    "version": 3
   },
   "file_extension": ".py",
   "mimetype": "text/x-python",
   "name": "python",
   "nbconvert_exporter": "python",
   "pygments_lexer": "ipython3",
   "version": "3.7.4"
  }
 },
 "nbformat": 4,
 "nbformat_minor": 2
}
